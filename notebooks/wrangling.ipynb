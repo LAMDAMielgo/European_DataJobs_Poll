{
 "cells": [
  {
   "cell_type": "markdown",
   "metadata": {},
   "source": [
    "# Data Wrangling"
   ]
  },
  {
   "cell_type": "code",
   "execution_count": 1,
   "metadata": {},
   "outputs": [],
   "source": [
    "# all modules\n",
    "\n",
    "import warnings\n",
    "import pandas as pd\n",
    "import requests\n",
    "from bs4 import BeautifulSoup"
   ]
  },
  {
   "cell_type": "code",
   "execution_count": 2,
   "metadata": {},
   "outputs": [],
   "source": [
    "# global stuff\n",
    "\n",
    "warnings.filterwarnings('ignore')\n",
    "%matplotlib inline\n",
    "pd.set_option('display.max_rows', 13)\n",
    "pd.set_option('display.max_columns', 13)"
   ]
  },
  {
   "cell_type": "markdown",
   "metadata": {},
   "source": [
    "## OPENING CLEANED TABLES"
   ]
  },
  {
   "cell_type": "code",
   "execution_count": 3,
   "metadata": {},
   "outputs": [],
   "source": [
    "df_personal_info = pd.read_csv('../data/processed/personal_info.csv', index_col=[0])\n",
    "df_career_info = pd.read_csv('../data/processed/career_info.csv', index_col=[0])\n",
    "df_country_info = pd.read_csv('../data/processed/country_info.csv', index_col=[0])"
   ]
  },
  {
   "cell_type": "code",
   "execution_count": 4,
   "metadata": {},
   "outputs": [
    {
     "data": {
      "text/html": [
       "<div>\n",
       "<style scoped>\n",
       "    .dataframe tbody tr th:only-of-type {\n",
       "        vertical-align: middle;\n",
       "    }\n",
       "\n",
       "    .dataframe tbody tr th {\n",
       "        vertical-align: top;\n",
       "    }\n",
       "\n",
       "    .dataframe thead th {\n",
       "        text-align: right;\n",
       "    }\n",
       "</style>\n",
       "<table border=\"1\" class=\"dataframe\">\n",
       "  <thead>\n",
       "    <tr style=\"text-align: right;\">\n",
       "      <th></th>\n",
       "      <th>uuid</th>\n",
       "      <th>age</th>\n",
       "      <th>gender</th>\n",
       "      <th>dem_has_children</th>\n",
       "      <th>age_group</th>\n",
       "      <th>gender_Female</th>\n",
       "      <th>gender_Male</th>\n",
       "      <th>ageGroup_14_25</th>\n",
       "      <th>ageGroup_26_39</th>\n",
       "      <th>ageGroup_40_65</th>\n",
       "      <th>ageGroup_juvenile</th>\n",
       "    </tr>\n",
       "  </thead>\n",
       "  <tbody>\n",
       "    <tr>\n",
       "      <th>0</th>\n",
       "      <td>f6e7ee00-deac-0133-4de8-0a81e8b09a82</td>\n",
       "      <td>61</td>\n",
       "      <td>M</td>\n",
       "      <td>False</td>\n",
       "      <td>40_65</td>\n",
       "      <td>False</td>\n",
       "      <td>True</td>\n",
       "      <td>False</td>\n",
       "      <td>False</td>\n",
       "      <td>True</td>\n",
       "      <td>False</td>\n",
       "    </tr>\n",
       "    <tr>\n",
       "      <th>1</th>\n",
       "      <td>54f0f1c0-dda1-0133-a559-0a81e8b09a82</td>\n",
       "      <td>57</td>\n",
       "      <td>M</td>\n",
       "      <td>True</td>\n",
       "      <td>40_65</td>\n",
       "      <td>False</td>\n",
       "      <td>True</td>\n",
       "      <td>False</td>\n",
       "      <td>False</td>\n",
       "      <td>True</td>\n",
       "      <td>False</td>\n",
       "    </tr>\n",
       "  </tbody>\n",
       "</table>\n",
       "</div>"
      ],
      "text/plain": [
       "                                   uuid  age gender  dem_has_children  \\\n",
       "0  f6e7ee00-deac-0133-4de8-0a81e8b09a82   61      M             False   \n",
       "1  54f0f1c0-dda1-0133-a559-0a81e8b09a82   57      M              True   \n",
       "\n",
       "  age_group  gender_Female  gender_Male  ageGroup_14_25  ageGroup_26_39  \\\n",
       "0     40_65          False         True           False           False   \n",
       "1     40_65          False         True           False           False   \n",
       "\n",
       "   ageGroup_40_65  ageGroup_juvenile  \n",
       "0            True              False  \n",
       "1            True              False  "
      ]
     },
     "execution_count": 4,
     "metadata": {},
     "output_type": "execute_result"
    }
   ],
   "source": [
    "df_personal_info.head(2)"
   ]
  },
  {
   "cell_type": "code",
   "execution_count": 5,
   "metadata": {},
   "outputs": [
    {
     "data": {
      "text/html": [
       "<div>\n",
       "<style scoped>\n",
       "    .dataframe tbody tr th:only-of-type {\n",
       "        vertical-align: middle;\n",
       "    }\n",
       "\n",
       "    .dataframe tbody tr th {\n",
       "        vertical-align: top;\n",
       "    }\n",
       "\n",
       "    .dataframe thead th {\n",
       "        text-align: right;\n",
       "    }\n",
       "</style>\n",
       "<table border=\"1\" class=\"dataframe\">\n",
       "  <thead>\n",
       "    <tr style=\"text-align: right;\">\n",
       "      <th></th>\n",
       "      <th>uuid</th>\n",
       "      <th>dem_full_time_job</th>\n",
       "      <th>High_Ed</th>\n",
       "      <th>Low_Ed</th>\n",
       "      <th>Medium_Ed</th>\n",
       "      <th>No_Ed</th>\n",
       "      <th>Unknown_Ed</th>\n",
       "    </tr>\n",
       "  </thead>\n",
       "  <tbody>\n",
       "    <tr>\n",
       "      <th>0</th>\n",
       "      <td>f6e7ee00-deac-0133-4de8-0a81e8b09a82</td>\n",
       "      <td>False</td>\n",
       "      <td>False</td>\n",
       "      <td>False</td>\n",
       "      <td>False</td>\n",
       "      <td>True</td>\n",
       "      <td>False</td>\n",
       "    </tr>\n",
       "    <tr>\n",
       "      <th>1</th>\n",
       "      <td>54f0f1c0-dda1-0133-a559-0a81e8b09a82</td>\n",
       "      <td>True</td>\n",
       "      <td>True</td>\n",
       "      <td>False</td>\n",
       "      <td>False</td>\n",
       "      <td>False</td>\n",
       "      <td>False</td>\n",
       "    </tr>\n",
       "  </tbody>\n",
       "</table>\n",
       "</div>"
      ],
      "text/plain": [
       "                                   uuid  dem_full_time_job  High_Ed  Low_Ed  \\\n",
       "0  f6e7ee00-deac-0133-4de8-0a81e8b09a82              False    False   False   \n",
       "1  54f0f1c0-dda1-0133-a559-0a81e8b09a82               True     True   False   \n",
       "\n",
       "   Medium_Ed  No_Ed  Unknown_Ed  \n",
       "0      False   True       False  \n",
       "1      False  False       False  "
      ]
     },
     "execution_count": 5,
     "metadata": {},
     "output_type": "execute_result"
    }
   ],
   "source": [
    "df_career_info.head(2)"
   ]
  },
  {
   "cell_type": "code",
   "execution_count": 6,
   "metadata": {},
   "outputs": [
    {
     "data": {
      "text/html": [
       "<div>\n",
       "<style scoped>\n",
       "    .dataframe tbody tr th:only-of-type {\n",
       "        vertical-align: middle;\n",
       "    }\n",
       "\n",
       "    .dataframe tbody tr th {\n",
       "        vertical-align: top;\n",
       "    }\n",
       "\n",
       "    .dataframe thead th {\n",
       "        text-align: right;\n",
       "    }\n",
       "</style>\n",
       "<table border=\"1\" class=\"dataframe\">\n",
       "  <thead>\n",
       "    <tr style=\"text-align: right;\">\n",
       "      <th></th>\n",
       "      <th>uuid</th>\n",
       "      <th>country_code</th>\n",
       "      <th>rural_context</th>\n",
       "      <th>urban_context</th>\n",
       "    </tr>\n",
       "  </thead>\n",
       "  <tbody>\n",
       "    <tr>\n",
       "      <th>0</th>\n",
       "      <td>f6e7ee00-deac-0133-4de8-0a81e8b09a82</td>\n",
       "      <td>AT</td>\n",
       "      <td>True</td>\n",
       "      <td>False</td>\n",
       "    </tr>\n",
       "    <tr>\n",
       "      <th>1</th>\n",
       "      <td>54f0f1c0-dda1-0133-a559-0a81e8b09a82</td>\n",
       "      <td>AT</td>\n",
       "      <td>False</td>\n",
       "      <td>True</td>\n",
       "    </tr>\n",
       "  </tbody>\n",
       "</table>\n",
       "</div>"
      ],
      "text/plain": [
       "                                   uuid country_code  rural_context  \\\n",
       "0  f6e7ee00-deac-0133-4de8-0a81e8b09a82           AT           True   \n",
       "1  54f0f1c0-dda1-0133-a559-0a81e8b09a82           AT          False   \n",
       "\n",
       "   urban_context  \n",
       "0          False  \n",
       "1           True  "
      ]
     },
     "execution_count": 6,
     "metadata": {},
     "output_type": "execute_result"
    }
   ],
   "source": [
    "df_country_info.head(2)"
   ]
  },
  {
   "cell_type": "markdown",
   "metadata": {},
   "source": [
    "# WEB SCRAPPING"
   ]
  },
  {
   "cell_type": "code",
   "execution_count": 7,
   "metadata": {},
   "outputs": [],
   "source": [
    "def get_dictEuropeanCountries():\n",
    "    wiki_url= 'https://en.wikipedia.org/wiki/ISO_3166-1_alpha-2'\n",
    "    url= 'https://www.euro.who.int/en/countries'\n",
    "    \n",
    "    html_wikipage = requests.get(wiki_url).content\n",
    "    html_eurocountries = requests.get(url).content\n",
    "        \n",
    "    countries_list = pd.read_html(html_wikipage, header=0)[2]\n",
    "    countries_dict = dict(zip(countries_list['Code'], countries_list['Country name (using title case)']))\n",
    "\n",
    "    soup = BeautifulSoup(html_eurocountries, 'lxml')\n",
    "    table = soup.find_all('section', {'class':'clearfix'})\n",
    "\n",
    "    all_contries = [content.text for content in table]\n",
    "    eu_countries = list(filter(None, all_contries[0].split('\\n')))\n",
    "\n",
    "    european_countries_values = [val for k,val in countries_dict.items() for eu_c in eu_countries if val == eu_c]\n",
    "    european_countries_key = [k for k,val in countries_dict.items() for eu_c in eu_countries if val == eu_c]\n",
    "\n",
    "    return dict(zip(european_countries_key, european_countries_values))"
   ]
  },
  {
   "cell_type": "code",
   "execution_count": 8,
   "metadata": {},
   "outputs": [],
   "source": [
    "european_countries = get_dictEuropeanCountries()"
   ]
  },
  {
   "cell_type": "markdown",
   "metadata": {},
   "source": [
    "# CHANGING COL IN COUNTRIES"
   ]
  },
  {
   "cell_type": "code",
   "execution_count": null,
   "metadata": {},
   "outputs": [],
   "source": [
    "def countryCode_to_countryName(serie):\n",
    "    # CAMBIAR SEGÚN DICCIONARIO DE EUROPEAN COUNTRIES\n",
    "    \"\"\"\n",
    "    INPUT  ->      AT      FR     ES  -> alpha_2 code\n",
    "    OUTPUT -> Austria  France  Spain  -> full name\n",
    "    --------------------------------------------------------------------------------\n",
    "    Note: countries_code_alpha_2 is a dict from get_dictCountries()\n",
    "    \"\"\"\n",
    "\n",
    "    country_dictionary = get_dictEuropeanCountries()\n",
    "    \n",
    "    return serie.apply(lambda x: country_dictionary[str(x)]) # Esto se puede hacer en la API"
   ]
  },
  {
   "cell_type": "code",
   "execution_count": null,
   "metadata": {},
   "outputs": [],
   "source": [
    "def add_col_to_df(df, )"
   ]
  },
  {
   "cell_type": "code",
   "execution_count": null,
   "metadata": {},
   "outputs": [],
   "source": [
    "df_country_info['country_Names'] = countryCode_to_countryName(serie= df_country_info['country_code'])"
   ]
  }
 ],
 "metadata": {
  "kernelspec": {
   "display_name": "Python 3",
   "language": "python",
   "name": "python3"
  },
  "language_info": {
   "codemirror_mode": {
    "name": "ipython",
    "version": 3
   },
   "file_extension": ".py",
   "mimetype": "text/x-python",
   "name": "python",
   "nbconvert_exporter": "python",
   "pygments_lexer": "ipython3",
   "version": "3.7.7"
  }
 },
 "nbformat": 4,
 "nbformat_minor": 2
}
