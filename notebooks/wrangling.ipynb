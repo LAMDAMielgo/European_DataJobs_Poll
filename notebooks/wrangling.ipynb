{
 "cells": [
  {
   "cell_type": "markdown",
   "metadata": {},
   "source": [
    "# Data Wrangling"
   ]
  },
  {
   "cell_type": "code",
   "execution_count": 48,
   "metadata": {},
   "outputs": [],
   "source": [
    "# all modules\n",
    "\n",
    "import warnings\n",
    "import pandas as pd\n",
    "import requests\n",
    "import re\n",
    "from bs4 import BeautifulSoup\n",
    "from functools import reduce\n",
    "\n",
    "import numpy as np\n",
    "import matplotlib.pyplot as plt\n",
    "import numpy as np\n",
    "from matplotlib import rc\n",
    "import missingno as msno"
   ]
  },
  {
   "cell_type": "code",
   "execution_count": 10,
   "metadata": {},
   "outputs": [],
   "source": [
    "# global stuff\n",
    "\n",
    "warnings.filterwarnings('ignore')\n",
    "%matplotlib inline\n",
    "pd.set_option('display.max_rows', 13)\n",
    "pd.set_option('display.max_columns', 13)"
   ]
  },
  {
   "cell_type": "code",
   "execution_count": 11,
   "metadata": {},
   "outputs": [],
   "source": [
    "def get_dictEuropeanCountries():\n",
    "    wiki_url= 'https://en.wikipedia.org/wiki/ISO_3166-1_alpha-2'\n",
    "    url= 'https://www.euro.who.int/en/countries'\n",
    "    \n",
    "    html_wikipage = requests.get(wiki_url).content\n",
    "    html_eurocountries = requests.get(url).content\n",
    "        \n",
    "    countries_list = pd.read_html(html_wikipage, header=0)[2]\n",
    "    countries_dict = dict(zip(countries_list['Code'], countries_list['Country name (using title case)']))\n",
    "\n",
    "    soup = BeautifulSoup(html_eurocountries, 'lxml')\n",
    "    table = soup.find_all('section', {'class':'clearfix'})\n",
    "\n",
    "    all_contries = [content.text for content in table]\n",
    "    eu_countries = list(filter(None, all_contries[0].split('\\n')))\n",
    "\n",
    "    european_countries_values = [val for k,val in countries_dict.items() for eu_c in eu_countries if val == eu_c]\n",
    "    european_countries_key = [k for k,val in countries_dict.items() for eu_c in eu_countries if val == eu_c]\n",
    "\n",
    "    return dict(zip(european_countries_key, european_countries_values))"
   ]
  },
  {
   "cell_type": "markdown",
   "metadata": {},
   "source": [
    "## OPENING CLEANED TABLES"
   ]
  },
  {
   "cell_type": "code",
   "execution_count": 12,
   "metadata": {},
   "outputs": [],
   "source": [
    "df_personal_info = pd.read_csv('../data/processed/personal_info.csv', index_col=[0])\n",
    "df_career_info = pd.read_csv('../data/processed/career_info.csv', index_col=[0])\n",
    "df_country_info = pd.read_csv('../data/processed/country_info.csv', index_col=[0])"
   ]
  },
  {
   "cell_type": "code",
   "execution_count": 13,
   "metadata": {},
   "outputs": [
    {
     "data": {
      "text/html": [
       "<div>\n",
       "<style scoped>\n",
       "    .dataframe tbody tr th:only-of-type {\n",
       "        vertical-align: middle;\n",
       "    }\n",
       "\n",
       "    .dataframe tbody tr th {\n",
       "        vertical-align: top;\n",
       "    }\n",
       "\n",
       "    .dataframe thead th {\n",
       "        text-align: right;\n",
       "    }\n",
       "</style>\n",
       "<table border=\"1\" class=\"dataframe\">\n",
       "  <thead>\n",
       "    <tr style=\"text-align: right;\">\n",
       "      <th></th>\n",
       "      <th>uuid</th>\n",
       "      <th>dem_full_time_job</th>\n",
       "      <th>normalized_job_code</th>\n",
       "      <th>High_Ed</th>\n",
       "      <th>Low_Ed</th>\n",
       "      <th>Medium_Ed</th>\n",
       "      <th>No_Ed</th>\n",
       "      <th>Unknown_Ed</th>\n",
       "      <th>normalized_job_names</th>\n",
       "    </tr>\n",
       "  </thead>\n",
       "  <tbody>\n",
       "    <tr>\n",
       "      <th>0</th>\n",
       "      <td>f6e7ee00-deac-0133-4de8-0a81e8b09a82</td>\n",
       "      <td>False</td>\n",
       "      <td>NaN</td>\n",
       "      <td>False</td>\n",
       "      <td>False</td>\n",
       "      <td>False</td>\n",
       "      <td>True</td>\n",
       "      <td>False</td>\n",
       "      <td>NaN</td>\n",
       "    </tr>\n",
       "    <tr>\n",
       "      <th>1</th>\n",
       "      <td>54f0f1c0-dda1-0133-a559-0a81e8b09a82</td>\n",
       "      <td>True</td>\n",
       "      <td>861a9b9151e11362eb3c77ca914172d0</td>\n",
       "      <td>True</td>\n",
       "      <td>False</td>\n",
       "      <td>False</td>\n",
       "      <td>False</td>\n",
       "      <td>False</td>\n",
       "      <td>Automatic Data Processing Planner</td>\n",
       "    </tr>\n",
       "    <tr>\n",
       "      <th>2</th>\n",
       "      <td>83127080-da3d-0133-c74f-0a81e8b09a82</td>\n",
       "      <td>False</td>\n",
       "      <td>NaN</td>\n",
       "      <td>False</td>\n",
       "      <td>False</td>\n",
       "      <td>False</td>\n",
       "      <td>False</td>\n",
       "      <td>True</td>\n",
       "      <td>NaN</td>\n",
       "    </tr>\n",
       "    <tr>\n",
       "      <th>3</th>\n",
       "      <td>15626d40-db13-0133-ea5c-0a81e8b09a82</td>\n",
       "      <td>True</td>\n",
       "      <td>049a3f3a2b5f85cb2971ba77ad66e10c</td>\n",
       "      <td>True</td>\n",
       "      <td>False</td>\n",
       "      <td>False</td>\n",
       "      <td>False</td>\n",
       "      <td>False</td>\n",
       "      <td>Data Coordinator</td>\n",
       "    </tr>\n",
       "    <tr>\n",
       "      <th>4</th>\n",
       "      <td>24954a70-db98-0133-4a64-0a81e8b09a82</td>\n",
       "      <td>True</td>\n",
       "      <td>f4b2fb1aa40f661488e2782b6d57ad2f</td>\n",
       "      <td>True</td>\n",
       "      <td>False</td>\n",
       "      <td>False</td>\n",
       "      <td>False</td>\n",
       "      <td>False</td>\n",
       "      <td>Database Developer</td>\n",
       "    </tr>\n",
       "  </tbody>\n",
       "</table>\n",
       "</div>"
      ],
      "text/plain": [
       "                                   uuid  dem_full_time_job  \\\n",
       "0  f6e7ee00-deac-0133-4de8-0a81e8b09a82              False   \n",
       "1  54f0f1c0-dda1-0133-a559-0a81e8b09a82               True   \n",
       "2  83127080-da3d-0133-c74f-0a81e8b09a82              False   \n",
       "3  15626d40-db13-0133-ea5c-0a81e8b09a82               True   \n",
       "4  24954a70-db98-0133-4a64-0a81e8b09a82               True   \n",
       "\n",
       "                normalized_job_code  High_Ed  Low_Ed  Medium_Ed  No_Ed  \\\n",
       "0                               NaN    False   False      False   True   \n",
       "1  861a9b9151e11362eb3c77ca914172d0     True   False      False  False   \n",
       "2                               NaN    False   False      False  False   \n",
       "3  049a3f3a2b5f85cb2971ba77ad66e10c     True   False      False  False   \n",
       "4  f4b2fb1aa40f661488e2782b6d57ad2f     True   False      False  False   \n",
       "\n",
       "   Unknown_Ed               normalized_job_names  \n",
       "0       False                                NaN  \n",
       "1       False  Automatic Data Processing Planner  \n",
       "2        True                                NaN  \n",
       "3       False                   Data Coordinator  \n",
       "4       False                 Database Developer  "
      ]
     },
     "execution_count": 13,
     "metadata": {},
     "output_type": "execute_result"
    }
   ],
   "source": [
    "df_career_info.head()"
   ]
  },
  {
   "cell_type": "markdown",
   "metadata": {},
   "source": [
    "# TABLE 1 [country-job title-gender-quantity-percetnage]"
   ]
  },
  {
   "cell_type": "code",
   "execution_count": 6,
   "metadata": {},
   "outputs": [],
   "source": [
    "########## FUNCTIONS TO EVAL ARGUMENT AT THE BEGINNING\n",
    "\n",
    "def country_argparse_eval(country_argument, list_to_search):\n",
    "    \"\"\"\n",
    "    Evaluates whether argument exists in df_country_info[country_names]\n",
    "    \"\"\"\n",
    "    print(f'\\t ··· Validating country argparse')\n",
    "    \n",
    "    if country_argument in list_to_search:\n",
    "        print(f'\\t\\t >> country_argument found in ddbb')\n",
    "        def_country_argument = country_argument\n",
    "        return def_country_argument\n",
    "    \n",
    "    else:\n",
    "        print(f'\\t\\t >> country_argument not found')\n",
    "        def_country_argument = \"\"\n",
    "        return def_country_argument\n",
    "\n",
    "    \n",
    "def country_argparse_filter(country_argument, analysis_df):\n",
    "    \"\"\"\n",
    "    Return analysis df by argument input\n",
    "    \"\"\"\n",
    "    list_to_search = analysis_df['country_names'].unique().tolist()\n",
    "    c_arg = country_argparse_eval(country_argument, list_to_search)\n",
    "    \n",
    "    if c_arg == \"\":\n",
    "        return analysis_df\n",
    "    else:\n",
    "        return analysis_df[analysis_df['country_names'] == c_arg]\n",
    "\n",
    "    \n",
    "def get_base_analysis_df(country_argument):\n",
    "    \"\"\"\n",
    "    Returns base_df for analysis after evaluating country argument\n",
    "    \"\"\"\n",
    "    dfs = [\n",
    "        df_country_info[['uuid', 'country_names']],\n",
    "        df_personal_info[['uuid', 'gender']],\n",
    "        df_career_info[['uuid', 'normalized_job_names', 'dem_full_time_job', 'High_Ed', 'Low_Ed', 'Medium_Ed', 'No_Ed']], \n",
    "        ]\n",
    "\n",
    "    df_final = reduce(lambda left,right: pd.merge(left,right,on='uuid'), dfs)\n",
    "    \n",
    "    return country_argparse_filter(country_argument.capitalize(), df_final)"
   ]
  },
  {
   "cell_type": "code",
   "execution_count": 7,
   "metadata": {},
   "outputs": [],
   "source": [
    "def get_percentages_gender_by_job(base_analysis_df):\n",
    "    \n",
    "    # Variables.\n",
    "    filtr = ['country_names','normalized_job_names','gender']\n",
    "    \n",
    "    drop_cols = ['uuid', 'dem_full_time_job', \n",
    "                 'High_Ed', 'Low_Ed', 'Medium_Ed', 'No_Ed', \n",
    "                 'totals_per_country']\n",
    "    \n",
    "    new_cols = ['quantity', 'percentage']\n",
    "\n",
    "    # Add first col = quality\n",
    "    df_job_gender = base_analysis_df.assign(quantity = 1)\\\n",
    "                         .drop(columns=drop_cols[0:-1])\\\n",
    "                         .groupby(filtr)\\\n",
    "                         .agg('count')\\\n",
    "                         .reset_index()\n",
    "    \n",
    "    # Generate totals_per_country\n",
    "    df_total_per_country = df_job_gender.groupby(filtr[0])\\\n",
    "                        [filtr[1]]\\\n",
    "                        .nunique()\\\n",
    "                        .to_frame()\\\n",
    "                        .rename(columns={filtr[1]: drop_cols[-1]})\n",
    "    \n",
    "    df_job_gender = df_job_gender.merge(df_total_per_country, on=filtr[0])\n",
    "\n",
    "    # Add second col == percentage and deleting totals_per_country when not need\n",
    "    df_job_gender[new_cols[1]] = round(df_job_gender[new_cols[0]] / df_job_gender[drop_cols[-1]] * 100, 3)\n",
    "    df_job_gender.drop(columns=[drop_cols[-1]], inplace=True)\n",
    "    \n",
    "    return df_job_gender\n",
    "    "
   ]
  },
  {
   "cell_type": "code",
   "execution_count": 8,
   "metadata": {},
   "outputs": [
    {
     "name": "stdout",
     "output_type": "stream",
     "text": [
      "\t ··· Validating country argparse\n",
      "\t\t >> country_argument found in ddbb\n"
     ]
    }
   ],
   "source": [
    "df_job_gender = get_percentages_gender_by_job(\n",
    "                get_base_analysis_df(country_argument='SpAiN'))"
   ]
  },
  {
   "cell_type": "code",
   "execution_count": 9,
   "metadata": {},
   "outputs": [
    {
     "data": {
      "text/html": [
       "<div>\n",
       "<style scoped>\n",
       "    .dataframe tbody tr th:only-of-type {\n",
       "        vertical-align: middle;\n",
       "    }\n",
       "\n",
       "    .dataframe tbody tr th {\n",
       "        vertical-align: top;\n",
       "    }\n",
       "\n",
       "    .dataframe thead th {\n",
       "        text-align: right;\n",
       "    }\n",
       "</style>\n",
       "<table border=\"1\" class=\"dataframe\">\n",
       "  <thead>\n",
       "    <tr style=\"text-align: right;\">\n",
       "      <th></th>\n",
       "      <th>country_names</th>\n",
       "      <th>normalized_job_names</th>\n",
       "      <th>gender</th>\n",
       "      <th>quantity</th>\n",
       "      <th>percentage</th>\n",
       "    </tr>\n",
       "  </thead>\n",
       "  <tbody>\n",
       "    <tr>\n",
       "      <th>0</th>\n",
       "      <td>Spain</td>\n",
       "      <td>Analytical Data Miner</td>\n",
       "      <td>M</td>\n",
       "      <td>1</td>\n",
       "      <td>0.781</td>\n",
       "    </tr>\n",
       "    <tr>\n",
       "      <th>1</th>\n",
       "      <td>Spain</td>\n",
       "      <td>Automatic Data Processing Customer Liaison (AD...</td>\n",
       "      <td>F</td>\n",
       "      <td>5</td>\n",
       "      <td>3.906</td>\n",
       "    </tr>\n",
       "    <tr>\n",
       "      <th>2</th>\n",
       "      <td>Spain</td>\n",
       "      <td>Automatic Data Processing Customer Liaison (AD...</td>\n",
       "      <td>M</td>\n",
       "      <td>6</td>\n",
       "      <td>4.688</td>\n",
       "    </tr>\n",
       "    <tr>\n",
       "      <th>3</th>\n",
       "      <td>Spain</td>\n",
       "      <td>Automatic Data Processing Planner</td>\n",
       "      <td>F</td>\n",
       "      <td>5</td>\n",
       "      <td>3.906</td>\n",
       "    </tr>\n",
       "    <tr>\n",
       "      <th>4</th>\n",
       "      <td>Spain</td>\n",
       "      <td>Automatic Data Processing Planner</td>\n",
       "      <td>M</td>\n",
       "      <td>4</td>\n",
       "      <td>3.125</td>\n",
       "    </tr>\n",
       "    <tr>\n",
       "      <th>...</th>\n",
       "      <td>...</td>\n",
       "      <td>...</td>\n",
       "      <td>...</td>\n",
       "      <td>...</td>\n",
       "      <td>...</td>\n",
       "    </tr>\n",
       "    <tr>\n",
       "      <th>203</th>\n",
       "      <td>Spain</td>\n",
       "      <td>Survey Data Technician</td>\n",
       "      <td>F</td>\n",
       "      <td>1</td>\n",
       "      <td>0.781</td>\n",
       "    </tr>\n",
       "    <tr>\n",
       "      <th>204</th>\n",
       "      <td>Spain</td>\n",
       "      <td>Voice and Data Technician</td>\n",
       "      <td>F</td>\n",
       "      <td>1</td>\n",
       "      <td>0.781</td>\n",
       "    </tr>\n",
       "    <tr>\n",
       "      <th>205</th>\n",
       "      <td>Spain</td>\n",
       "      <td>Voice and Data Technician</td>\n",
       "      <td>M</td>\n",
       "      <td>1</td>\n",
       "      <td>0.781</td>\n",
       "    </tr>\n",
       "    <tr>\n",
       "      <th>206</th>\n",
       "      <td>Spain</td>\n",
       "      <td>Weight in Motion Field Data Collection Technician</td>\n",
       "      <td>F</td>\n",
       "      <td>2</td>\n",
       "      <td>1.562</td>\n",
       "    </tr>\n",
       "    <tr>\n",
       "      <th>207</th>\n",
       "      <td>Spain</td>\n",
       "      <td>Weight in Motion Field Data Collection Technician</td>\n",
       "      <td>M</td>\n",
       "      <td>2</td>\n",
       "      <td>1.562</td>\n",
       "    </tr>\n",
       "  </tbody>\n",
       "</table>\n",
       "<p>208 rows × 5 columns</p>\n",
       "</div>"
      ],
      "text/plain": [
       "    country_names                               normalized_job_names gender  \\\n",
       "0           Spain                              Analytical Data Miner      M   \n",
       "1           Spain  Automatic Data Processing Customer Liaison (AD...      F   \n",
       "2           Spain  Automatic Data Processing Customer Liaison (AD...      M   \n",
       "3           Spain                  Automatic Data Processing Planner      F   \n",
       "4           Spain                  Automatic Data Processing Planner      M   \n",
       "..            ...                                                ...    ...   \n",
       "203         Spain                             Survey Data Technician      F   \n",
       "204         Spain                          Voice and Data Technician      F   \n",
       "205         Spain                          Voice and Data Technician      M   \n",
       "206         Spain  Weight in Motion Field Data Collection Technician      F   \n",
       "207         Spain  Weight in Motion Field Data Collection Technician      M   \n",
       "\n",
       "     quantity  percentage  \n",
       "0           1       0.781  \n",
       "1           5       3.906  \n",
       "2           6       4.688  \n",
       "3           5       3.906  \n",
       "4           4       3.125  \n",
       "..        ...         ...  \n",
       "203         1       0.781  \n",
       "204         1       0.781  \n",
       "205         1       0.781  \n",
       "206         2       1.562  \n",
       "207         2       1.562  \n",
       "\n",
       "[208 rows x 5 columns]"
      ]
     },
     "execution_count": 9,
     "metadata": {},
     "output_type": "execute_result"
    }
   ],
   "source": [
    "df_job_gender"
   ]
  },
  {
   "cell_type": "markdown",
   "metadata": {},
   "source": [
    "# TABLE 3 [top 10 skills by education level]"
   ]
  },
  {
   "cell_type": "code",
   "execution_count": 10,
   "metadata": {},
   "outputs": [
    {
     "name": "stdout",
     "output_type": "stream",
     "text": [
      "\t ··· Validating country argparse\n",
      "\t\t >> country_argument found in ddbb\n"
     ]
    }
   ],
   "source": [
    "df_analysis = get_base_analysis_df(country_argument='SpAiN')"
   ]
  },
  {
   "cell_type": "code",
   "execution_count": 11,
   "metadata": {},
   "outputs": [],
   "source": [
    "df_high_ed = df_analysis[df_analysis['High_Ed']].drop(columns=['High_Ed', 'Low_Ed', 'Medium_Ed', 'No_Ed'])"
   ]
  },
  {
   "cell_type": "code",
   "execution_count": 12,
   "metadata": {},
   "outputs": [
    {
     "data": {
      "text/html": [
       "<div>\n",
       "<style scoped>\n",
       "    .dataframe tbody tr th:only-of-type {\n",
       "        vertical-align: middle;\n",
       "    }\n",
       "\n",
       "    .dataframe tbody tr th {\n",
       "        vertical-align: top;\n",
       "    }\n",
       "\n",
       "    .dataframe thead th {\n",
       "        text-align: right;\n",
       "    }\n",
       "</style>\n",
       "<table border=\"1\" class=\"dataframe\">\n",
       "  <thead>\n",
       "    <tr style=\"text-align: right;\">\n",
       "      <th></th>\n",
       "      <th>uuid</th>\n",
       "      <th>country_names</th>\n",
       "      <th>gender</th>\n",
       "      <th>normalized_job_names</th>\n",
       "      <th>dem_full_time_job</th>\n",
       "    </tr>\n",
       "  </thead>\n",
       "  <tbody>\n",
       "    <tr>\n",
       "      <th>2212</th>\n",
       "      <td>72a48100-da38-0133-487f-0a81e8b09a82</td>\n",
       "      <td>Spain</td>\n",
       "      <td>M</td>\n",
       "      <td>Clinical Data Management Manager (CDM Manager)</td>\n",
       "      <td>True</td>\n",
       "    </tr>\n",
       "    <tr>\n",
       "      <th>2218</th>\n",
       "      <td>6256a6a0-d961-0133-7e9a-0a81e8b09a82</td>\n",
       "      <td>Spain</td>\n",
       "      <td>M</td>\n",
       "      <td>NaN</td>\n",
       "      <td>False</td>\n",
       "    </tr>\n",
       "    <tr>\n",
       "      <th>2225</th>\n",
       "      <td>33a4bd30-d97d-0133-0b6d-0a81e8b09a82</td>\n",
       "      <td>Spain</td>\n",
       "      <td>M</td>\n",
       "      <td>Automatic Data Processing Planner</td>\n",
       "      <td>True</td>\n",
       "    </tr>\n",
       "  </tbody>\n",
       "</table>\n",
       "</div>"
      ],
      "text/plain": [
       "                                      uuid country_names gender  \\\n",
       "2212  72a48100-da38-0133-487f-0a81e8b09a82         Spain      M   \n",
       "2218  6256a6a0-d961-0133-7e9a-0a81e8b09a82         Spain      M   \n",
       "2225  33a4bd30-d97d-0133-0b6d-0a81e8b09a82         Spain      M   \n",
       "\n",
       "                                normalized_job_names  dem_full_time_job  \n",
       "2212  Clinical Data Management Manager (CDM Manager)               True  \n",
       "2218                                             NaN              False  \n",
       "2225               Automatic Data Processing Planner               True  "
      ]
     },
     "execution_count": 12,
     "metadata": {},
     "output_type": "execute_result"
    }
   ],
   "source": [
    "df_high_ed[df_high_ed['gender'] == 'F'].head(3)\n",
    "df_high_ed[df_high_ed['gender'] == 'M'].head(3)"
   ]
  },
  {
   "cell_type": "code",
   "execution_count": 122,
   "metadata": {},
   "outputs": [],
   "source": [
    "def top_skills_by_ed_level(base_analysis_df, number_skills, ed_level, gender_to_eval):\n",
    "    \n",
    "    \n",
    "    # Variables\n",
    "    filtr = 'normalized_job_names'\n",
    "    drop_cols = ['uuid', 'country_names', 'gender', 'dem_full_time_job']\n",
    "    \n",
    "    # Filter by education level\n",
    "    df_high_ed = base_analysis_df[df_analysis[ed_level]]\\\n",
    "                                .drop(columns=['High_Ed', 'Low_Ed', 'Medium_Ed', 'No_Ed'])\n",
    "    # Getting only one gender\n",
    "    if gender_to_eval == \"All\":\n",
    "        df_high_ed\n",
    "    else:        \n",
    "        df_high_ed = df_high_ed[df_high_ed['gender'] == gender_to_eval]\n",
    "    \n",
    "    # Counting and sorting\n",
    "    df_high_ed_skills_gender = df_high_ed.assign(counts = 1)\\\n",
    "                                     .drop(columns=drop_cols)\\\n",
    "                                     .groupby(filtr)\\\n",
    "                                     .agg('count')\\\n",
    "                                     .reset_index()\n",
    "\n",
    "    df_high_ed_skills_gender.sort_values(by=['counts'], ascending=False, inplace=True)\n",
    "    counts_by_gender = df_high_ed_skills_gender['counts'].tolist()\n",
    "    \n",
    "    pd = df_high_ed_skills_gender[filtr].reset_index().head(number_skills)\n",
    "                                  \n",
    "    pd = pd.rename(columns={filtr: ed_level}).drop(columns='index')\n",
    "    counts_by_gender = counts_by_gender[:number_skills]\n",
    "    \n",
    "    # returns tuple \n",
    "    return pd, counts_by_gender"
   ]
  },
  {
   "cell_type": "code",
   "execution_count": 123,
   "metadata": {},
   "outputs": [
    {
     "name": "stdout",
     "output_type": "stream",
     "text": [
      "\t ··· Validating country argparse\n",
      "\t\t >> country_argument found in ddbb\n"
     ]
    }
   ],
   "source": [
    "serie_top_skills_high_ed = top_skills_by_ed_level(base_analysis_df= get_base_analysis_df(\n",
    "                                                                country_argument= 'Spain'), \n",
    "                                              number_skills= 5, \n",
    "                                              ed_level= 'Low_Ed',\n",
    "                                              gender_to_eval= 'F')"
   ]
  },
  {
   "cell_type": "code",
   "execution_count": 124,
   "metadata": {},
   "outputs": [
    {
     "data": {
      "text/plain": [
       "[2, 1, 1, 1, 1]"
      ]
     },
     "execution_count": 124,
     "metadata": {},
     "output_type": "execute_result"
    }
   ],
   "source": [
    "serie_top_skills_high_ed[1]"
   ]
  },
  {
   "cell_type": "code",
   "execution_count": 211,
   "metadata": {},
   "outputs": [],
   "source": [
    "def get_df_top_skills(country_argument, num_top_skills, list_dfs_cleaned, gender=\"All\"):\n",
    "    # Variables\n",
    "    ed_levels = ['High_Ed', 'Medium_Ed', 'Low_Ed']\n",
    "    path_to_save = 'data/results'\n",
    "\n",
    "    # Tuples of top skills jobs and counters\n",
    "    serie_top_skills_high_ed, counts_top_skills_high_ed = top_skills_by_ed_level(base_analysis_df=get_base_analysis_df(country_argument=country_argument, list_of_clean_df= list_dfs_cleaned),\n",
    "                                                                                number_skills=num_top_skills,\n",
    "                                                                                ed_level=ed_levels[0],\n",
    "                                                                                gender_to_eval= gender)\n",
    "\n",
    "    serie_top_skills_medium_ed, counts_top_skills_medium_ed = top_skills_by_ed_level(base_analysis_df=get_base_analysis_df(country_argument=country_argument, list_of_clean_df= list_dfs_cleaned),\n",
    "                                                                                number_skills=num_top_skills,\n",
    "                                                                                ed_level=ed_levels[1],\n",
    "                                                                                gender_to_eval=gender)\n",
    "\n",
    "    serie_top_skills_low_ed, counts_top_skills_low_ed = top_skills_by_ed_level(base_analysis_df=get_base_analysis_df(country_argument=country_argument, list_of_clean_df= list_dfs_cleaned),\n",
    "                                                                                number_skills=num_top_skills,\n",
    "                                                                                ed_level=ed_levels[2],\n",
    "                                                                                gender_to_eval=gender)\n",
    "\n",
    "    cols = dict(zip([n for n in range(5)], ['#' + str(n) for n in range(5)]))\n",
    "    # Construccion of DF of jobs\n",
    "    all_dfs = [serie_top_skills_high_ed, serie_top_skills_medium_ed, serie_top_skills_low_ed]\n",
    "    result_dfs = pd.concat(all_dfs, axis=1, sort=False)\n",
    "\n",
    "    df_to_save = result_dfs.T.rename(columns=cols)\n",
    "\n",
    "    # Construction of DF of counts\n",
    "    all_counts = [counts_top_skills_high_ed, counts_top_skills_medium_ed, counts_top_skills_low_ed]\n",
    "    result_counts = pd.DataFrame(all_counts)\n",
    "\n",
    "    # Save DataFrame to csv in data/results\n",
    "    m_ac.save_df_to_csv(df_to_save,\n",
    "                        path=path_to_save,  # Function adds hierarchy of files\n",
    "                        name=f'df_top_skills')  # Name of csv\n",
    "    return df_to_save, result_counts, gender"
   ]
  },
  {
   "cell_type": "code",
   "execution_count": 212,
   "metadata": {},
   "outputs": [
    {
     "ename": "TypeError",
     "evalue": "get_df_top_skills() missing 1 required positional argument: 'list_dfs_cleaned'",
     "output_type": "error",
     "traceback": [
      "\u001b[0;31m---------------------------------------------------------------------------\u001b[0m",
      "\u001b[0;31mTypeError\u001b[0m                                 Traceback (most recent call last)",
      "\u001b[0;32m<ipython-input-212-232532884487>\u001b[0m in \u001b[0;36m<module>\u001b[0;34m\u001b[0m\n\u001b[1;32m      1\u001b[0m df_top_skills_M = get_df_top_skills(country_argument = 'Spain', \n\u001b[0;32m----> 2\u001b[0;31m                                   num_top_skills = 5)\n\u001b[0m",
      "\u001b[0;31mTypeError\u001b[0m: get_df_top_skills() missing 1 required positional argument: 'list_dfs_cleaned'"
     ]
    }
   ],
   "source": [
    "df_top_skills_M = get_df_top_skills(country_argument = 'Spain', \n",
    "                                  num_top_skills = 5)"
   ]
  },
  {
   "cell_type": "code",
   "execution_count": 207,
   "metadata": {},
   "outputs": [
    {
     "data": {
      "text/plain": [
       "(3, 5)"
      ]
     },
     "execution_count": 207,
     "metadata": {},
     "output_type": "execute_result"
    }
   ],
   "source": [
    "df_top_skills[0].shape"
   ]
  },
  {
   "cell_type": "code",
   "execution_count": 156,
   "metadata": {},
   "outputs": [
    {
     "data": {
      "text/plain": [
       "[8, 5, 2]"
      ]
     },
     "execution_count": 156,
     "metadata": {},
     "output_type": "execute_result"
    }
   ],
   "source": [
    "counts_3"
   ]
  },
  {
   "cell_type": "code",
   "execution_count": 208,
   "metadata": {},
   "outputs": [],
   "source": [
    "def get_stacked_bar_plot(tuple_top_skills):\n",
    "\n",
    "    # Variables\n",
    "    gender = tuple_top_skills[2]\n",
    "    file_name = f'visualizacion_{gender}_distribution_top_skills'\n",
    "    N = tuple_top_skills[0].shape[1] # shape is [5x3]\n",
    "    ind = np.arange(N)    # the x locations for the groups\n",
    "    width = 0.35       # the width of the bars: can also be len(x) sequence\n",
    "\n",
    "    # list of values\n",
    "    counts_1 = list(tuple_top_skills[1].iloc[:, 0])\n",
    "    counts_2 = list(tuple_top_skills[1].iloc[:, 1])\n",
    "    counts_3 = list(tuple_top_skills[1].iloc[:, 2])\n",
    "    counts_4 = list(tuple_top_skills[1].iloc[:, 3])\n",
    "    counts_5 = list(tuple_top_skills[1].iloc[:, 4])\n",
    "\n",
    "    # stack_bars\n",
    "    top_1 = plt.bar(ind, counts_1, width, bottom= 0, color='darkcyan')\n",
    "    top_2 = plt.bar(ind, counts_2, width, bottom= counts_1, color='cadetblue')\n",
    "    top_3 = plt.bar(ind, counts_3, width, bottom= [i+j for i,j in zip(counts_1, counts_2)], color='cyan')\n",
    "    top_4 = plt.bar(ind, counts_4, width, bottom= [i+j+k for i,j,k in zip(counts_1, counts_2, counts_3)], color='lightseagreen')\n",
    "    top_5 = plt.bar(ind, counts_5, width, bottom= [i+j+k+l for i,j,k,l in zip(counts_1, counts_2, counts_3, counts_4)], color='lightskyblue')\n",
    "\n",
    "    plt.ylim(0, 45)\n",
    "    # Legend for X and Y\n",
    "    plt.title(f'VARIATION OF TOP SKILLS BY EDUCATION. GENDER = {gender}')\n",
    "    plt.xticks(ind, ('high_ed', 'medium_ed', 'low_ed'))\n",
    "    plt.legend((top_1[0], top_2[0], top_3[0], top_4[0], top_5[0]), ('#1', '#2', '#3', '#4', '#5'))\n",
    "\n",
    "    #Save to data/results\n",
    "    fig = plt.gcf()\n",
    "    fig.set_size_inches(12, 20)\n",
    "    fig.savefig(f'../data/results/{file_name}.png', dpi=100)\n",
    "\n",
    "    return plt.show()\n"
   ]
  },
  {
   "cell_type": "code",
   "execution_count": 210,
   "metadata": {},
   "outputs": [
    {
     "name": "stdout",
     "output_type": "stream",
     "text": [
      "\t ··· Validating country argparse\n",
      "\t\t >> country_argument found in ddbb\n",
      "\t ··· Validating country argparse\n",
      "\t\t >> country_argument found in ddbb\n",
      "\t ··· Validating country argparse\n",
      "\t\t >> country_argument found in ddbb\n"
     ]
    },
    {
     "ename": "TypeError",
     "evalue": "stacked_bar_plot() missing 1 required positional argument: 'gender'",
     "output_type": "error",
     "traceback": [
      "\u001b[0;31m---------------------------------------------------------------------------\u001b[0m",
      "\u001b[0;31mTypeError\u001b[0m                                 Traceback (most recent call last)",
      "\u001b[0;32m<ipython-input-210-fda3e34fbe24>\u001b[0m in \u001b[0;36m<module>\u001b[0;34m\u001b[0m\n\u001b[1;32m      1\u001b[0m stacked_bar_plot(get_df_top_skills(country_argument = 'Spain', \n\u001b[1;32m      2\u001b[0m                                   \u001b[0mnum_top_skills\u001b[0m \u001b[0;34m=\u001b[0m \u001b[0;36m5\u001b[0m\u001b[0;34m,\u001b[0m\u001b[0;34m\u001b[0m\u001b[0;34m\u001b[0m\u001b[0m\n\u001b[0;32m----> 3\u001b[0;31m                                   gender = 'M'))\n\u001b[0m",
      "\u001b[0;31mTypeError\u001b[0m: stacked_bar_plot() missing 1 required positional argument: 'gender'"
     ]
    }
   ],
   "source": [
    "stacked_bar_plot(get_df_top_skills(country_argument = 'Spain', \n",
    "                                  num_top_skills = 5,\n",
    "                                  gender = 'M'))"
   ]
  },
  {
   "cell_type": "code",
   "execution_count": 106,
   "metadata": {},
   "outputs": [
    {
     "data": {
      "text/plain": [
       "[-5, -5, -4, -4, -4]"
      ]
     },
     "execution_count": 106,
     "metadata": {},
     "output_type": "execute_result"
    }
   ],
   "source": [
    "[-1*i for i in list(df_top_skills_F[1].iloc[0,:])]"
   ]
  },
  {
   "cell_type": "code",
   "execution_count": 105,
   "metadata": {},
   "outputs": [
    {
     "data": {
      "text/plain": [
       "[-4, -3, -3, -3, -3]"
      ]
     },
     "execution_count": 105,
     "metadata": {},
     "output_type": "execute_result"
    }
   ],
   "source": [
    "[-1*i for i in list(df_top_skills_F[1].iloc[1,:])]"
   ]
  },
  {
   "cell_type": "code",
   "execution_count": null,
   "metadata": {},
   "outputs": [],
   "source": []
  },
  {
   "cell_type": "code",
   "execution_count": null,
   "metadata": {},
   "outputs": [],
   "source": [
    "    # list of values\n",
    "    count_str = 'counts_'\n",
    "    dict_names =  []\n",
    "    for n in Number_of_stacks:\n",
    "        dict_names.append\n",
    "    counts_1 = list(tuple_top_skills[1].iloc[:, 0])\n",
    "    counts_2 = list(tuple_top_skills[1].iloc[:, 1])\n",
    "    counts_3 = list(tuple_top_skills[1].iloc[:, 2])\n",
    "    counts_4 = list(tuple_top_skills[1].iloc[:, 3])\n",
    "    counts_5 = list(tuple_top_skills[1].iloc[:, 4])\n"
   ]
  },
  {
   "cell_type": "code",
   "execution_count": 220,
   "metadata": {},
   "outputs": [],
   "source": [
    "dict_names =  []\n",
    "dict_lists =  []\n",
    "\n",
    "for n in range(5):\n",
    "    dict_names.append(f'count_{n}')\n",
    "    dict_lists.append(list(df_top_skills_F[1].iloc[:, n]))\n",
    "                      \n",
    "dict_counts = dict(zip(dict_names, dict_lists)) "
   ]
  },
  {
   "cell_type": "code",
   "execution_count": 221,
   "metadata": {},
   "outputs": [
    {
     "data": {
      "text/plain": [
       "{'count_0': [5, 4, 2],\n",
       " 'count_1': [5, 3, 1],\n",
       " 'count_2': [4, 3, 1],\n",
       " 'count_3': [4, 3, 1],\n",
       " 'count_4': [4, 3, 1]}"
      ]
     },
     "execution_count": 221,
     "metadata": {},
     "output_type": "execute_result"
    }
   ],
   "source": [
    "dict_counts"
   ]
  },
  {
   "cell_type": "code",
   "execution_count": 222,
   "metadata": {},
   "outputs": [
    {
     "data": {
      "text/plain": [
       "[5, 4, 2]"
      ]
     },
     "execution_count": 222,
     "metadata": {},
     "output_type": "execute_result"
    }
   ],
   "source": [
    "dict_counts['count_0']"
   ]
  },
  {
   "cell_type": "markdown",
   "metadata": {},
   "source": [
    "## SACAR ALGO DE POLLS"
   ]
  },
  {
   "cell_type": "code",
   "execution_count": 5,
   "metadata": {},
   "outputs": [],
   "source": [
    "df_poll_basicincome_argumentsagainst= pd.read_csv('../data/processed/poll_basicincome_argumentsagainst.csv', index_col=[0])"
   ]
  },
  {
   "cell_type": "code",
   "execution_count": 35,
   "metadata": {},
   "outputs": [
    {
     "name": "stdout",
     "output_type": "stream",
     "text": [
      "<class 'pandas.core.frame.DataFrame'>\n",
      "Int64Index: 9649 entries, 0 to 9648\n",
      "Data columns (total 7 columns):\n",
      " #   Column                                                                 Non-Null Count  Dtype\n",
      "---  ------                                                                 --------------  -----\n",
      " 0   None of the above                                                      9649 non-null   bool \n",
      " 1   Only the people who need it most should get something from the state   9649 non-null   bool \n",
      " 2   It might encourage people to stop working                              9649 non-null   bool \n",
      " 3   It is against the principle of linking merit and reward                9649 non-null   bool \n",
      " 4   Foreigners might come to my country and take advantage of the benefit  9649 non-null   bool \n",
      " 5   It is impossible to finance                                            9649 non-null   bool \n",
      " 6   It increases dependence on the state                                   9649 non-null   bool \n",
      "dtypes: bool(7)\n",
      "memory usage: 461.3 KB\n"
     ]
    }
   ],
   "source": [
    "df_poll_basicincome_argumentsagainst.info()"
   ]
  },
  {
   "cell_type": "code",
   "execution_count": 14,
   "metadata": {},
   "outputs": [
    {
     "data": {
      "text/html": [
       "<div>\n",
       "<style scoped>\n",
       "    .dataframe tbody tr th:only-of-type {\n",
       "        vertical-align: middle;\n",
       "    }\n",
       "\n",
       "    .dataframe tbody tr th {\n",
       "        vertical-align: top;\n",
       "    }\n",
       "\n",
       "    .dataframe thead th {\n",
       "        text-align: right;\n",
       "    }\n",
       "</style>\n",
       "<table border=\"1\" class=\"dataframe\">\n",
       "  <thead>\n",
       "    <tr style=\"text-align: right;\">\n",
       "      <th></th>\n",
       "      <th>uuid</th>\n",
       "      <th>age</th>\n",
       "      <th>gender</th>\n",
       "      <th>dem_has_children</th>\n",
       "      <th>age_group</th>\n",
       "      <th>gender_Female</th>\n",
       "      <th>gender_Male</th>\n",
       "      <th>ageGroup_14_25</th>\n",
       "      <th>ageGroup_26_39</th>\n",
       "      <th>ageGroup_40_65</th>\n",
       "      <th>ageGroup_juvenile</th>\n",
       "    </tr>\n",
       "  </thead>\n",
       "  <tbody>\n",
       "    <tr>\n",
       "      <th>0</th>\n",
       "      <td>f6e7ee00-deac-0133-4de8-0a81e8b09a82</td>\n",
       "      <td>61</td>\n",
       "      <td>M</td>\n",
       "      <td>False</td>\n",
       "      <td>40_65</td>\n",
       "      <td>False</td>\n",
       "      <td>True</td>\n",
       "      <td>False</td>\n",
       "      <td>False</td>\n",
       "      <td>True</td>\n",
       "      <td>False</td>\n",
       "    </tr>\n",
       "    <tr>\n",
       "      <th>1</th>\n",
       "      <td>54f0f1c0-dda1-0133-a559-0a81e8b09a82</td>\n",
       "      <td>57</td>\n",
       "      <td>M</td>\n",
       "      <td>True</td>\n",
       "      <td>40_65</td>\n",
       "      <td>False</td>\n",
       "      <td>True</td>\n",
       "      <td>False</td>\n",
       "      <td>False</td>\n",
       "      <td>True</td>\n",
       "      <td>False</td>\n",
       "    </tr>\n",
       "    <tr>\n",
       "      <th>2</th>\n",
       "      <td>83127080-da3d-0133-c74f-0a81e8b09a82</td>\n",
       "      <td>32</td>\n",
       "      <td>M</td>\n",
       "      <td>False</td>\n",
       "      <td>26_39</td>\n",
       "      <td>False</td>\n",
       "      <td>True</td>\n",
       "      <td>False</td>\n",
       "      <td>True</td>\n",
       "      <td>False</td>\n",
       "      <td>False</td>\n",
       "    </tr>\n",
       "    <tr>\n",
       "      <th>3</th>\n",
       "      <td>15626d40-db13-0133-ea5c-0a81e8b09a82</td>\n",
       "      <td>45</td>\n",
       "      <td>M</td>\n",
       "      <td>True</td>\n",
       "      <td>40_65</td>\n",
       "      <td>False</td>\n",
       "      <td>True</td>\n",
       "      <td>False</td>\n",
       "      <td>False</td>\n",
       "      <td>True</td>\n",
       "      <td>False</td>\n",
       "    </tr>\n",
       "    <tr>\n",
       "      <th>4</th>\n",
       "      <td>24954a70-db98-0133-4a64-0a81e8b09a82</td>\n",
       "      <td>41</td>\n",
       "      <td>F</td>\n",
       "      <td>True</td>\n",
       "      <td>40_65</td>\n",
       "      <td>True</td>\n",
       "      <td>False</td>\n",
       "      <td>False</td>\n",
       "      <td>False</td>\n",
       "      <td>True</td>\n",
       "      <td>False</td>\n",
       "    </tr>\n",
       "  </tbody>\n",
       "</table>\n",
       "</div>"
      ],
      "text/plain": [
       "                                   uuid  age gender  dem_has_children  \\\n",
       "0  f6e7ee00-deac-0133-4de8-0a81e8b09a82   61      M             False   \n",
       "1  54f0f1c0-dda1-0133-a559-0a81e8b09a82   57      M              True   \n",
       "2  83127080-da3d-0133-c74f-0a81e8b09a82   32      M             False   \n",
       "3  15626d40-db13-0133-ea5c-0a81e8b09a82   45      M              True   \n",
       "4  24954a70-db98-0133-4a64-0a81e8b09a82   41      F              True   \n",
       "\n",
       "  age_group  gender_Female  gender_Male  ageGroup_14_25  ageGroup_26_39  \\\n",
       "0     40_65          False         True           False           False   \n",
       "1     40_65          False         True           False           False   \n",
       "2     26_39          False         True           False            True   \n",
       "3     40_65          False         True           False           False   \n",
       "4     40_65           True        False           False           False   \n",
       "\n",
       "   ageGroup_40_65  ageGroup_juvenile  \n",
       "0            True              False  \n",
       "1            True              False  \n",
       "2           False              False  \n",
       "3            True              False  \n",
       "4            True              False  "
      ]
     },
     "execution_count": 14,
     "metadata": {},
     "output_type": "execute_result"
    }
   ],
   "source": [
    "df_personal_info.head()"
   ]
  },
  {
   "cell_type": "code",
   "execution_count": null,
   "metadata": {},
   "outputs": [],
   "source": []
  },
  {
   "cell_type": "code",
   "execution_count": 148,
   "metadata": {},
   "outputs": [],
   "source": [
    "cols = list(df_poll_basicincome_argumentsagainst.columns)\n",
    "gender = list(df_personal_info['gender'].unique())\n",
    "\n",
    "df_joined= df_personal_info[['uuid','gender']]\\\n",
    "                            .join(df_poll_basicincome_argumentsagainst, on=None, how='left', sort=False)"
   ]
  },
  {
   "cell_type": "code",
   "execution_count": 189,
   "metadata": {},
   "outputs": [
    {
     "data": {
      "text/html": [
       "<div>\n",
       "<style scoped>\n",
       "    .dataframe tbody tr th:only-of-type {\n",
       "        vertical-align: middle;\n",
       "    }\n",
       "\n",
       "    .dataframe tbody tr th {\n",
       "        vertical-align: top;\n",
       "    }\n",
       "\n",
       "    .dataframe thead th {\n",
       "        text-align: right;\n",
       "    }\n",
       "</style>\n",
       "<table border=\"1\" class=\"dataframe\">\n",
       "  <thead>\n",
       "    <tr style=\"text-align: right;\">\n",
       "      <th></th>\n",
       "      <th>uuid</th>\n",
       "      <th>gender</th>\n",
       "      <th>None of the above</th>\n",
       "      <th>Only the people who need it most should get something from the state</th>\n",
       "      <th>It might encourage people to stop working</th>\n",
       "      <th>It is against the principle of linking merit and reward</th>\n",
       "      <th>Foreigners might come to my country and take advantage of the benefit</th>\n",
       "      <th>It is impossible to finance</th>\n",
       "      <th>It increases dependence on the state</th>\n",
       "    </tr>\n",
       "  </thead>\n",
       "  <tbody>\n",
       "    <tr>\n",
       "      <th>0</th>\n",
       "      <td>f6e7ee00-deac-0133-4de8-0a81e8b09a82</td>\n",
       "      <td>M</td>\n",
       "      <td>True</td>\n",
       "      <td>False</td>\n",
       "      <td>False</td>\n",
       "      <td>False</td>\n",
       "      <td>False</td>\n",
       "      <td>False</td>\n",
       "      <td>False</td>\n",
       "    </tr>\n",
       "    <tr>\n",
       "      <th>1</th>\n",
       "      <td>54f0f1c0-dda1-0133-a559-0a81e8b09a82</td>\n",
       "      <td>M</td>\n",
       "      <td>False</td>\n",
       "      <td>False</td>\n",
       "      <td>True</td>\n",
       "      <td>False</td>\n",
       "      <td>False</td>\n",
       "      <td>False</td>\n",
       "      <td>False</td>\n",
       "    </tr>\n",
       "    <tr>\n",
       "      <th>2</th>\n",
       "      <td>83127080-da3d-0133-c74f-0a81e8b09a82</td>\n",
       "      <td>M</td>\n",
       "      <td>False</td>\n",
       "      <td>False</td>\n",
       "      <td>False</td>\n",
       "      <td>False</td>\n",
       "      <td>True</td>\n",
       "      <td>False</td>\n",
       "      <td>False</td>\n",
       "    </tr>\n",
       "    <tr>\n",
       "      <th>3</th>\n",
       "      <td>15626d40-db13-0133-ea5c-0a81e8b09a82</td>\n",
       "      <td>M</td>\n",
       "      <td>True</td>\n",
       "      <td>False</td>\n",
       "      <td>False</td>\n",
       "      <td>False</td>\n",
       "      <td>False</td>\n",
       "      <td>False</td>\n",
       "      <td>False</td>\n",
       "    </tr>\n",
       "    <tr>\n",
       "      <th>7</th>\n",
       "      <td>dd743bb0-d9a5-0133-53b2-0a81e8b09a82</td>\n",
       "      <td>M</td>\n",
       "      <td>False</td>\n",
       "      <td>True</td>\n",
       "      <td>True</td>\n",
       "      <td>False</td>\n",
       "      <td>True</td>\n",
       "      <td>True</td>\n",
       "      <td>False</td>\n",
       "    </tr>\n",
       "  </tbody>\n",
       "</table>\n",
       "</div>"
      ],
      "text/plain": [
       "                                   uuid gender  None of the above  \\\n",
       "0  f6e7ee00-deac-0133-4de8-0a81e8b09a82      M               True   \n",
       "1  54f0f1c0-dda1-0133-a559-0a81e8b09a82      M              False   \n",
       "2  83127080-da3d-0133-c74f-0a81e8b09a82      M              False   \n",
       "3  15626d40-db13-0133-ea5c-0a81e8b09a82      M               True   \n",
       "7  dd743bb0-d9a5-0133-53b2-0a81e8b09a82      M              False   \n",
       "\n",
       "   Only the people who need it most should get something from the state  \\\n",
       "0                                              False                      \n",
       "1                                              False                      \n",
       "2                                              False                      \n",
       "3                                              False                      \n",
       "7                                               True                      \n",
       "\n",
       "   It might encourage people to stop working  \\\n",
       "0                                      False   \n",
       "1                                       True   \n",
       "2                                      False   \n",
       "3                                      False   \n",
       "7                                       True   \n",
       "\n",
       "   It is against the principle of linking merit and reward  \\\n",
       "0                                              False         \n",
       "1                                              False         \n",
       "2                                              False         \n",
       "3                                              False         \n",
       "7                                              False         \n",
       "\n",
       "   Foreigners might come to my country and take advantage of the benefit  \\\n",
       "0                                              False                       \n",
       "1                                              False                       \n",
       "2                                               True                       \n",
       "3                                              False                       \n",
       "7                                               True                       \n",
       "\n",
       "   It is impossible to finance  It increases dependence on the state  \n",
       "0                        False                                 False  \n",
       "1                        False                                 False  \n",
       "2                        False                                 False  \n",
       "3                        False                                 False  \n",
       "7                         True                                 False  "
      ]
     },
     "execution_count": 189,
     "metadata": {},
     "output_type": "execute_result"
    }
   ],
   "source": [
    "df_filtered.head(5)"
   ]
  },
  {
   "cell_type": "code",
   "execution_count": 149,
   "metadata": {},
   "outputs": [],
   "source": [
    "df_filtered = df_joined[df_joined['gender'] == 'M']"
   ]
  },
  {
   "attachments": {
    "image.png": {
     "image/png": "[encoded data removed]"
    }
   },
   "cell_type": "markdown",
   "metadata": {},
   "source": [
    "![image.png](attachment:image.png)"
   ]
  },
  {
   "cell_type": "code",
   "execution_count": 157,
   "metadata": {},
   "outputs": [
    {
     "name": "stdout",
     "output_type": "stream",
     "text": [
      "M\n",
      "[707, 1589, 2222, 1181, 1789, 1628, 1273]\n",
      "F\n",
      "[674, 1518, 2010, 901, 1552, 1590, 1121]\n"
     ]
    }
   ],
   "source": [
    "#### this is gold\n",
    "list_of_lists = []\n",
    "\n",
    "for gender_name in gender:\n",
    "    print(gender_name)\n",
    "    \n",
    "    list_of_bars = []\n",
    "\n",
    "    for i in range(len(cols)):\n",
    "        list_of_bars.append(df_joined[df_joined['gender'] == gender_name][cols[i]].value_counts())\n",
    "        \n",
    "    list_of_trues = [list_of_bars[i].iloc[1] for i in range(len(list_of_bars))]\n",
    "    print(list_of_trues)\n",
    "    list_of_lists.append(list_of_trues)\n"
   ]
  },
  {
   "cell_type": "code",
   "execution_count": 158,
   "metadata": {},
   "outputs": [],
   "source": [
    "def get_df_poll_filtered_by_gender(list_separated_polls, poll_to_extract):\n",
    "    \"\"\"\n",
    "    INPUT  ->  [poll_1, poll_2, poll_3, poll_4] + 'poll_3'    -> data cleaned as extracted\n",
    "    OUTPUT ->  in poll_3, list of trues responses by gender   -> data for visualization\n",
    "    \"\"\"\n",
    "    possible_cols = ['question_bbi_2016wave4_basicincome_awareness',\n",
    "                    'question_bbi_2016wave4_basicincome_effect',\n",
    "                    'question_bbi_2016wave4_basicincome_vote',\n",
    "                    'question_bbi_2016wave4_basicincome_argumentsagainst',\n",
    "                    'question_bbi_2016wave4_basicincome_argumentsfor']\n",
    "    try:\n",
    "        if poll_to_extract in possible_cols:\n",
    "            df_poll = list_separated_polls[poll_to_extract]\n",
    "\n",
    "            # important columns\n",
    "            cols_poll = list(df_poll_basicincome_argumentsagainst.columns)\n",
    "            gender = list(df_personal_info['gender'].unique())\n",
    "            \n",
    "            #\n",
    "            df_joined= base_analysis_df[['uuid','gender']]\\\n",
    "                                        .join(df_poll_basicincome_argumentsagainst, on=None, how='left', sort=False)\n",
    "\n",
    "            # getting data for visualiza\n",
    "            list_of_lists = []\n",
    "\n",
    "            for gender_name in gender:\n",
    "                list_of_counts = []\n",
    "\n",
    "                for i in range(len(cols)):\n",
    "                    list_of_counts.append(df_joined[df_joined['gender'] == gender_name][cols_poll[i]].value_counts())\n",
    "\n",
    "                list_of_trues = [list_of_bars[i].iloc[1] for i in range(len(list_of_bars))]\n",
    "                list_of_lists.append(list_of_trues)\n",
    "\n",
    "            return list_of_lists #[[M trues], [F trues]]\n",
    "\n",
    "        else:\n",
    "            raise ColumnMissing\n",
    "            \n",
    "    except ColumnMissing:\n",
    "        print('The entry [poll_to_extract] is not correct')"
   ]
  },
  {
   "cell_type": "code",
   "execution_count": 188,
   "metadata": {},
   "outputs": [
    {
     "ename": "AttributeError",
     "evalue": "module 'matplotlib.pyplot' has no attribute 'spines'",
     "output_type": "error",
     "traceback": [
      "\u001b[0;31m---------------------------------------------------------------------------\u001b[0m",
      "\u001b[0;31mAttributeError\u001b[0m                            Traceback (most recent call last)",
      "\u001b[0;32m<ipython-input-188-064a04e602af>\u001b[0m in \u001b[0;36m<module>\u001b[0;34m\u001b[0m\n\u001b[1;32m     19\u001b[0m \u001b[0mplt\u001b[0m\u001b[0;34m.\u001b[0m\u001b[0mxticks\u001b[0m\u001b[0;34m(\u001b[0m\u001b[0mrotation\u001b[0m\u001b[0;34m=\u001b[0m\u001b[0;36m90\u001b[0m\u001b[0;34m)\u001b[0m\u001b[0;34m\u001b[0m\u001b[0;34m\u001b[0m\u001b[0m\n\u001b[1;32m     20\u001b[0m \u001b[0;34m\u001b[0m\u001b[0m\n\u001b[0;32m---> 21\u001b[0;31m \u001b[0mplt\u001b[0m\u001b[0;34m.\u001b[0m\u001b[0mspines\u001b[0m\u001b[0;34m[\u001b[0m\u001b[0;34m'top'\u001b[0m\u001b[0;34m]\u001b[0m\u001b[0;34m.\u001b[0m\u001b[0mset_visible\u001b[0m\u001b[0;34m(\u001b[0m\u001b[0;32mFalse\u001b[0m\u001b[0;34m)\u001b[0m\u001b[0;34m\u001b[0m\u001b[0;34m\u001b[0m\u001b[0m\n\u001b[0m\u001b[1;32m     22\u001b[0m \u001b[0mplt\u001b[0m\u001b[0;34m.\u001b[0m\u001b[0mspines\u001b[0m\u001b[0;34m[\u001b[0m\u001b[0;34m'right'\u001b[0m\u001b[0;34m]\u001b[0m\u001b[0;34m.\u001b[0m\u001b[0mset_visible\u001b[0m\u001b[0;34m(\u001b[0m\u001b[0;32mFalse\u001b[0m\u001b[0;34m)\u001b[0m\u001b[0;34m\u001b[0m\u001b[0;34m\u001b[0m\u001b[0m\n\u001b[1;32m     23\u001b[0m \u001b[0mplt\u001b[0m\u001b[0;34m.\u001b[0m\u001b[0mspines\u001b[0m\u001b[0;34m[\u001b[0m\u001b[0;34m'bottom'\u001b[0m\u001b[0;34m]\u001b[0m\u001b[0;34m.\u001b[0m\u001b[0mset_visible\u001b[0m\u001b[0;34m(\u001b[0m\u001b[0;32mFalse\u001b[0m\u001b[0;34m)\u001b[0m\u001b[0;34m\u001b[0m\u001b[0;34m\u001b[0m\u001b[0m\n",
      "\u001b[0;31mAttributeError\u001b[0m: module 'matplotlib.pyplot' has no attribute 'spines'"
     ]
    },
    {
     "data": {
      "image/png": "[encoded data removed]",
      "text/plain": [
       "<Figure size 432x288 with 1 Axes>"
      ]
     },
     "metadata": {
      "needs_background": "light"
     },
     "output_type": "display_data"
    }
   ],
   "source": [
    "def stacked_bar_graph(bars_lists):\n",
    "    # set width of bar\n",
    "    barWidth = 0.45\n",
    "\n",
    "    # set height of bar\n",
    "    bars1 = list_of_lists[0]\n",
    "    bars2 = list_of_lists[1]\n",
    "\n",
    "    # Set position of bar on X axis\n",
    "    r1 = np.arange(len(bars1))\n",
    "    r2 = [x + barWidth for x in r1]\n",
    "\n",
    "    # Make the plot\n",
    "    plt.bar(r1, bars1, color='#38a3a5', width=barWidth, edgecolor='white', label='var1')\n",
    "    plt.bar(r2, bars2, color='#f8ad9d', width=barWidth, edgecolor='white', label='var2')\n",
    "\n",
    "    # Add xticks on the middle of the group bars\n",
    "    plt.xlabel('Arguments Against Basic INcome', fontweight='bold')\n",
    "    plt.xticks([r + barWidth for r in range(len(bars1))], cols)\n",
    "    plt.xticks(rotation=90)\n",
    "\n",
    "    plt.legend(gender)\n",
    "    plt.show()\n"
   ]
  },
  {
   "cell_type": "code",
   "execution_count": null,
   "metadata": {},
   "outputs": [],
   "source": []
  }
 ],
 "metadata": {
  "kernelspec": {
   "display_name": "Python [conda env:jupyter_env] *",
   "language": "python",
   "name": "conda-env-jupyter_env-py"
  },
  "language_info": {
   "codemirror_mode": {
    "name": "ipython",
    "version": 3
   },
   "file_extension": ".py",
   "mimetype": "text/x-python",
   "name": "python",
   "nbconvert_exporter": "python",
   "pygments_lexer": "ipython3",
   "version": "3.7.7"
  }
 },
 "nbformat": 4,
 "nbformat_minor": 2
}
